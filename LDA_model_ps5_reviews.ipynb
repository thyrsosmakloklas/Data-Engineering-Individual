{
 "cells": [
  {
   "cell_type": "code",
   "execution_count": 7,
   "id": "4b1c1f7d",
   "metadata": {},
   "outputs": [
    {
     "name": "stdout",
     "output_type": "stream",
     "text": [
      "Success - the MySageMakerInstance is in the eu-west-1 region. You will use the 685385470294.dkr.ecr.eu-west-1.amazonaws.com/xgboost:latest container for your SageMaker endpoint.\n"
     ]
    }
   ],
   "source": [
    "import boto3, re, sys, math, json, os, sagemaker, urllib.request\n",
    "from sagemaker import get_execution_role\n",
    "import numpy as np                                \n",
    "import pandas as pd                               \n",
    "import matplotlib.pyplot as plt                   \n",
    "from IPython.display import Image                 \n",
    "from IPython.display import display               \n",
    "from time import gmtime, strftime                 \n",
    "from sagemaker.predictor import csv_serializer   \n",
    "\n",
    "# Define IAM role\n",
    "role = get_execution_role()\n",
    "prefix = 'sagemaker/DEMO-xgboost-dm'\n",
    "containers = {'us-west-2': '433757028032.dkr.ecr.us-west-2.amazonaws.com/xgboost:latest',\n",
    "              'us-east-1': '811284229777.dkr.ecr.us-east-1.amazonaws.com/xgboost:latest',\n",
    "              'us-east-2': '825641698319.dkr.ecr.us-east-2.amazonaws.com/xgboost:latest',\n",
    "              'eu-west-1': '685385470294.dkr.ecr.eu-west-1.amazonaws.com/xgboost:latest'} # each region has its XGBoost container\n",
    "my_region = boto3.session.Session().region_name # set the region of the instance\n",
    "print(\"Success - the MySageMakerInstance is in the \" + my_region + \" region. You will use the \" + containers[my_region] + \" container for your SageMaker endpoint.\")"
   ]
  },
  {
   "cell_type": "code",
   "execution_count": 8,
   "id": "d5b308a9",
   "metadata": {},
   "outputs": [],
   "source": [
    "import boto3\n",
    "from sklearn.feature_extraction.text import CountVectorizer\n",
    "from sklearn.decomposition import LatentDirichletAllocation\n",
    "import pickle"
   ]
  },
  {
   "cell_type": "code",
   "execution_count": 12,
   "id": "c44fa3d6",
   "metadata": {},
   "outputs": [],
   "source": [
    "dynamodb = boto3.resource(\"dynamodb\")\n",
    "\n",
    "s3 = boto3.resource(\"s3\")"
   ]
  },
  {
   "cell_type": "code",
   "execution_count": 11,
   "id": "d1ce8d60",
   "metadata": {},
   "outputs": [
    {
     "data": {
      "text/plain": [
       "{'ResponseMetadata': {'RequestId': 'JWGKB4Z0GZBFB7XP',\n",
       "  'HostId': 'DL1hJfdV0aP398IXdJWGzZR/rpZGS8R/y24ZNrAKPVYZiDwsNce1tSCY745NPTvD1deaUvSHfc8=',\n",
       "  'HTTPStatusCode': 200,\n",
       "  'HTTPHeaders': {'x-amz-id-2': 'DL1hJfdV0aP398IXdJWGzZR/rpZGS8R/y24ZNrAKPVYZiDwsNce1tSCY745NPTvD1deaUvSHfc8=',\n",
       "   'x-amz-request-id': 'JWGKB4Z0GZBFB7XP',\n",
       "   'date': 'Sun, 02 May 2021 10:58:59 GMT',\n",
       "   'etag': '\"73989d6483f0cdf11c10259e11e651dc\"',\n",
       "   'content-length': '0',\n",
       "   'server': 'AmazonS3'},\n",
       "  'RetryAttempts': 1},\n",
       " 'ETag': '\"73989d6483f0cdf11c10259e11e651dc\"'}"
      ]
     },
     "execution_count": 11,
     "metadata": {},
     "output_type": "execute_result"
    }
   ],
   "source": [
    "#Get data from database\n",
    "table = dynamodb.Table(\"consumer_reviews_PS5\")\n",
    "response = table.scan()\n",
    "\n",
    "#Keep only text from reviews\n",
    "data = pd.DataFrame(response[\"Items\"])\n",
    "col_titles = data['review_text'].copy()\n",
    "\n",
    "#The vectorizer object will be used to transform text to vector form\n",
    "vectorizer = CountVectorizer(max_df=0.9, min_df=25, token_pattern='\\w+|\\$[\\d\\.]+|\\S+')\n",
    "\n",
    "#Apply transformation\n",
    "tf = vectorizer.fit_transform(col_titles).toarray()\n",
    "\n",
    "#tf_feature_names tells us what word each column in the matric represents\n",
    "tf_feature_names = vectorizer.get_feature_names()\n",
    "\n",
    "#Select number of topics\n",
    "number_of_topics = 10\n",
    "\n",
    "#LDA object\n",
    "model = LatentDirichletAllocation(n_components=number_of_topics, random_state=0)\n",
    "\n",
    "#Fit data to model\n",
    "model.fit(tf)\n",
    "\n",
    "#Serialise\n",
    "model_pickle = pickle.dumps(model)\n",
    "\n",
    "#Put serialised object to s3\n",
    "bucket_name = 'ucl-msin0166-2021-individual-tmakloklas'\n",
    "object = s3.Object(bucket_name, 'LDA_topic_model_sagemaker.pkl')\n",
    "object.put(Body=model_pickle)"
   ]
  }
 ],
 "metadata": {
  "kernelspec": {
   "display_name": "conda_python3",
   "language": "python",
   "name": "conda_python3"
  },
  "language_info": {
   "codemirror_mode": {
    "name": "ipython",
    "version": 3
   },
   "file_extension": ".py",
   "mimetype": "text/x-python",
   "name": "python",
   "nbconvert_exporter": "python",
   "pygments_lexer": "ipython3",
   "version": "3.6.13"
  }
 },
 "nbformat": 4,
 "nbformat_minor": 5
}
